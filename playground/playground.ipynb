{
 "cells": [
  {
   "cell_type": "code",
   "execution_count": 1,
   "metadata": {},
   "outputs": [],
   "source": [
    "# -*- coding: utf-8 -*-\n",
    "# ---------------- #\n",
    "# Import libraries:\n",
    "import os\n",
    "import numpy as np\n",
    "import torch\n",
    "# Loading bar\n",
    "from tqdm.notebook import tqdm\n",
    "\n",
    "# ---------------- #\n",
    "# Managers:\n",
    "## folder manager\n",
    "from scripts.startUp import StartUp\n",
    "## Training manager\n",
    "from scripts.trainingManager import TrainingManager\n",
    "\n",
    "# ---------------- #\n",
    "# Algorithms\n",
    "## KNN algorithm \n",
    "from sklearn.neighbors import NearestNeighbors\n",
    "## MLP\n",
    "### Model\n",
    "from model.mlp import MyModel\n",
    "### Loss function\n",
    "from model.loss_functions import LossFunctions\n",
    "\n",
    "### Data generation\n",
    "from scripts.generation import Generator\n",
    "### Training\n",
    "from training_loop import train_model_loss_static_val #,train_model, train_model_loss\n",
    "\n",
    "### Metrics\n",
    "from scripts.metrics import Metrics\n",
    "\n",
    "# ---------------- #\n",
    "# Visualisation:\n",
    "## Plot\n",
    "import matplotlib.pyplot as plt\n",
    "## Movie generator\n",
    "import imageio.v2 as imageio\n",
    "## Plot functions\n",
    "from scripts.plotter import Plotter"
   ]
  },
  {
   "cell_type": "markdown",
   "metadata": {},
   "source": [
    "# Paths and directory maintenance"
   ]
  },
  {
   "cell_type": "code",
   "execution_count": 2,
   "metadata": {},
   "outputs": [],
   "source": [
    "#models = ['pos', 'head']\n",
    "\n",
    "models = [#'pos_diagonal_sum_loss','pos_diagonal_softmax_loss','pos_cross_entropy_matching_loss','pos_softmax_diagonal_loss','pos_softmax_matching_loss','pos_contrastive_distance_loss', 'pos_triplet_margin_loss',\n",
    "          'head_diagonal_sum_loss','head_diagonal_softmax_loss','head_cross_entropy_matching_loss','head_softmax_diagonal_loss','head_softmax_matching_loss','head_contrastive_distance_loss', 'head_triplet_margin_loss']\n",
    "\n",
    "# Set up the file paths\n",
    "curpath = r'C:\\Users\\abelt\\OneDrive\\Dokumenter\\GitHub\\Ship_datafusion\\playground'\n",
    "os.makedirs(curpath, exist_ok=True)\n",
    "\n",
    "paths = StartUp.clear_folder(currpath= curpath, models=models, clear_movies=False)\n",
    "formatted_time = StartUp.get_time()"
   ]
  },
  {
   "cell_type": "markdown",
   "metadata": {},
   "source": [
    "# Dataset generation\n",
    "Move: Initial parameters\n",
    "\n",
    "Missing mask - data points:\n",
    "- TODO: p1 should have more data points than p2, use a mask to simulate less datapoints in p2\n",
    "- p2_masked, ground_truth_masked = Generator.mask_data_points(p1, p2, missing_percentage_data)\n",
    "\n",
    "Missing mask - values:\n",
    "- TODO: There should be missing values in the data points, use a mask to simulate missing values"
   ]
  },
  {
   "cell_type": "code",
   "execution_count": 3,
   "metadata": {},
   "outputs": [],
   "source": [
    "# Set up model and optimizer\n",
    "np.random.seed(1)\n",
    "\n",
    "maxiter = 500\n",
    "N = 2000\n",
    "N_test = N//10\n",
    "sigma_distance = 0.05\n",
    "sigma_heading = 0.005\n",
    "missing_percentage_data = 0.5\n",
    "missing_percentage_values = 0.8\n",
    "\n",
    "ranks = [1, 3, 5]\n",
    "\n",
    "# Generate validation data\n",
    "# Position data:\n",
    "p1, p2 = Generator.generate_data(N_test, sigma=sigma_distance)\n",
    "# Ground truth:\n",
    "ground_truth = np.arange(p1.shape[0])\n",
    "# Heading data:\n",
    "t1, t2 = Generator.calculate_heading(p1,p2, sigma=sigma_heading)\n",
    "# Speed over ground data:\n",
    "\n",
    "\n",
    "# Missing mask - data points:\n",
    "# TODO p1 should have more data points than p2, use a mask to simulate less datapoints in p2\n",
    "## Mask data points\n",
    "p2_masked, ground_truth_masked = Generator.mask_data_points(p1, p2, missing_percentage_data)\n",
    "\n",
    "# Missing mask - values:\n",
    "# TODO There should be missing values in the data points, use a mask to simulate missing values"
   ]
  },
  {
   "cell_type": "markdown",
   "metadata": {},
   "source": [
    "# KNN"
   ]
  },
  {
   "cell_type": "code",
   "execution_count": null,
   "metadata": {},
   "outputs": [],
   "source": [
    "## Functions\n",
    "# --------------------------- Matching Functions ---------------------------- #\n",
    "def knn_matching(p1, p2, k=1):\n",
    "    \"\"\"\n",
    "    Apply KNN to match p1 and p2 using haversine distance.\n",
    "    \"\"\"\n",
    "    n1, n2 = p1.shape[1], p2.shape[1]\n",
    "    distances = np.zeros((n1, n2))\n",
    "    for i in range(n1):\n",
    "        for j in range(n2):\n",
    "            distances[i, j] = haversine_distance(p1[0, i], p1[1, i], p2[0, j], p2[1, j])\n",
    "    knn = NearestNeighbors(n_neighbors=k, metric='precomputed')\n",
    "    knn.fit(distances)\n",
    "    distances, indices = knn.kneighbors(distances, return_distance=True)\n",
    "    return indices, distances\n",
    "\n",
    "# ---------------------------- Utility Functions ---------------------------- #\n",
    "def haversine_distance(lat1, lon1, lat2, lon2):\n",
    "    \"\"\"\n",
    "    Calculate the great circle distance in kilometers between two points \n",
    "    on the earth (specified in decimal degrees).\n",
    "    \"\"\"\n",
    "    lat1, lon1, lat2, lon2 = map(np.radians, [lat1, lon1, lat2, lon2])\n",
    "    dlon = lon2 - lon1\n",
    "    dlat = lat2 - lat1\n",
    "    a = np.sin(dlat / 2) ** 2 + np.cos(lat1) * np.cos(lat2) * np.sin(dlon / 2) ** 2\n",
    "    c = 2 * np.arcsin(np.sqrt(a))\n",
    "    r = 6371  # Radius of earth in kilometers\n",
    "    return c * r\n",
    "\n",
    "# --------------------------- Plotting Functions ---------------------------- #\n",
    "def plot_knn_matching(p1, p2, ground_truth, indices):\n",
    "    \"\"\"\n",
    "    Plot track matching visualization with KNN matching results.\n",
    "    \n",
    "    Args:\n",
    "    - p1: numpy array, data points in p1.\n",
    "    - p2: numpy array, data points in p2.\n",
    "    - ground_truth: numpy array, ground truth indices.\n",
    "    - indices: numpy array, predicted indices from KNN.\n",
    "    \"\"\"\n",
    "    points1 = p1.T\n",
    "    points2 = p2.T  \n",
    "    # Create subplot grid\n",
    "    fig, axes = plt.subplots(1, 1, figsize=(15, 6), dpi = 100, constrained_layout=True)\n",
    "    # Plot track matching visualization in [0, 0]\n",
    "    Plotter.plot_tracks(axes, points1, points2, title=\"Track Matching Visualization, KNN Matching\")\n",
    "    # Plot a single dummy line for Ground Truth and KNN Match to include in the legend\n",
    "    axes.plot([], [], color='g', linestyle='-', label=\"Ground Truth\")\n",
    "    axes.plot([], [], color='r', linestyle='--', label=\"KNN Match\")\n",
    "\n",
    "    Plotter.plot_connection(axes, p1, p2, ground_truth, color='g', linestyle='-', label=\"Ground Match\")\n",
    "    Plotter.plot_connection(axes, p1, p2, indices[:, 0], color='r', linestyle='--', label=\"KNN Match\")\n",
    "\n",
    "    axes.legend(['Sensor 1','Sensor 2', 'Ground Truth', 'KNN match'], loc='upper left', bbox_to_anchor=(1.009, 1), fancybox=True, shadow=True)\n",
    "\n",
    "    plt.show()\n",
    "    return fig, axes"
   ]
  },
  {
   "cell_type": "code",
   "execution_count": null,
   "metadata": {},
   "outputs": [],
   "source": [
    "# --------------------------- K-Nearest Neighbour - Main Workflow ---------------------------- #\n",
    "indices, distances = knn_matching(p1.T, p2.T, k=10)\n",
    "\n",
    "percentages = {}\n",
    "for rank in ranks:\n",
    "    within_rank = np.any(indices[:, :rank] == ground_truth[:, None], axis=1)\n",
    "    percentage = np.mean(within_rank) * 100  # Convert to percentage\n",
    "    percentages.update({rank : float(percentage)})\n",
    "print('Rank percentages:', percentages)\n",
    "\n",
    "_, _ = plot_knn_matching(p1, p2, ground_truth, indices)\n"
   ]
  },
  {
   "cell_type": "markdown",
   "metadata": {},
   "source": [
    "# Machine\n",
    "Make a train_model function that takes the p1 and p2 for validation and visualization. So videos contain the same points"
   ]
  },
  {
   "cell_type": "markdown",
   "metadata": {},
   "source": [
    "## POS:"
   ]
  },
  {
   "cell_type": "code",
   "execution_count": null,
   "metadata": {},
   "outputs": [],
   "source": [
    "# # Train a model with positional data\n",
    "# model_pos, manager_pos = train_model(\n",
    "#     model_type='pos',\n",
    "#     input_dim=2,\n",
    "#     max_iter=maxiter,\n",
    "#     N = N,\n",
    "# )"
   ]
  },
  {
   "cell_type": "code",
   "execution_count": null,
   "metadata": {},
   "outputs": [],
   "source": [
    "# Train a model with heading data\n",
    "\n",
    "## diagonal_sum_loss\n",
    "model_head, manager_head = train_model_loss_static_val(\n",
    "    model_type='pos_diagonal_sum_loss',\n",
    "    input_dim=2,\n",
    "    p1 = p1, p2 = p2,\n",
    "    max_iter=maxiter,\n",
    "    N = N,\n",
    "    sigma_distance=sigma_distance,\n",
    "    sigma_heading = sigma_heading,\n",
    "    loss_function=LossFunctions.diagonal_sum_loss,\n",
    ")\n",
    "\n",
    "## diagonal_softmax_loss\n",
    "model_head, manager_head = train_model_loss_static_val(\n",
    "    model_type='pos_diagonal_softmax_loss',\n",
    "    input_dim=2,\n",
    "    p1 = p1, p2 = p2,\n",
    "    max_iter=maxiter,\n",
    "    N = N,\n",
    "    sigma_distance=sigma_distance,\n",
    "    sigma_heading = sigma_heading,\n",
    "    loss_function=LossFunctions.diagonal_softmax_loss,\n",
    ")\n",
    "\n",
    "## cross_entropy_matching_loss\n",
    "model_head, manager_head = train_model_loss_static_val(\n",
    "    model_type='pos_cross_entropy_matching_loss',\n",
    "    input_dim=2,\n",
    "    p1 = p1, p2 = p2,\n",
    "    max_iter=maxiter,\n",
    "    N = N,\n",
    "    sigma_distance=sigma_distance,\n",
    "    sigma_heading = sigma_heading,\n",
    "    loss_function=LossFunctions.cross_entropy_matching_loss,\n",
    ")\n",
    "\n",
    "## softmax_diagonal_loss\n",
    "model_head, manager_head = train_model_loss_static_val(\n",
    "    model_type='pos_softmax_diagonal_loss',\n",
    "    input_dim=2,\n",
    "    p1 = p1, p2 = p2,\n",
    "    max_iter=maxiter,\n",
    "    N = N,\n",
    "    sigma_distance=sigma_distance,\n",
    "    sigma_heading = sigma_heading,\n",
    "    loss_function=LossFunctions.softmax_diagonal_loss,\n",
    ")\n",
    "\n",
    "## softmax_matching_loss\n",
    "model_head, manager_head = train_model_loss_static_val(\n",
    "    model_type='pos_softmax_matching_loss',\n",
    "    input_dim=2,\n",
    "    p1 = p1, p2 = p2,\n",
    "    max_iter=maxiter,\n",
    "    N = N,\n",
    "    sigma_distance=sigma_distance,\n",
    "    sigma_heading = sigma_heading,\n",
    "    loss_function=LossFunctions.softmax_matching_loss,\n",
    ")\n",
    "\n",
    "## contrastive_loss\n",
    "model_head, manager_head = train_model_loss_static_val(\n",
    "    model_type='pos_contrastive_distance_loss',\n",
    "    input_dim=2,\n",
    "    p1 = p1, p2 = p2,\n",
    "    max_iter=maxiter,\n",
    "    N = N,\n",
    "    sigma_distance=sigma_distance,\n",
    "    sigma_heading = sigma_heading,\n",
    "    loss_function=LossFunctions.contrastive_distance_loss,\n",
    ")\n",
    "\n",
    "## triplet_margin_loss\n",
    "model_head, manager_head = train_model_loss_static_val(\n",
    "    model_type='pos_triplet_margin_loss',\n",
    "    input_dim=2,\n",
    "    p1 = p1, p2 = p2,\n",
    "    max_iter=maxiter,\n",
    "    N = N,\n",
    "    sigma_distance=sigma_distance,\n",
    "    sigma_heading = sigma_heading,\n",
    "    loss_function=LossFunctions.triplet_margin_loss,\n",
    ")"
   ]
  },
  {
   "cell_type": "markdown",
   "metadata": {},
   "source": [
    "## Heading:"
   ]
  },
  {
   "cell_type": "code",
   "execution_count": 4,
   "metadata": {},
   "outputs": [
    {
     "name": "stdout",
     "output_type": "stream",
     "text": [
      "diagonal_sum_loss\n"
     ]
    },
    {
     "data": {
      "application/vnd.jupyter.widget-view+json": {
       "model_id": "52558f3d447a42769afeaf96e855dc6a",
       "version_major": 2,
       "version_minor": 0
      },
      "text/plain": [
       "Training head_diagonal_sum_loss-model:   0%|          | 0/501 [00:00<?, ?it/s]"
      ]
     },
     "metadata": {},
     "output_type": "display_data"
    },
    {
     "name": "stdout",
     "output_type": "stream",
     "text": [
      "Training video for head_diagonal_sum_loss, saved at .\\results\\head_diagonal_sum_loss\\movies\\20241128T111808_training_head_diagonal_sum_loss.mp4\n",
      "diagonal_softmax_loss\n"
     ]
    },
    {
     "data": {
      "application/vnd.jupyter.widget-view+json": {
       "model_id": "f98d438645f3439d9f73ef4088371c45",
       "version_major": 2,
       "version_minor": 0
      },
      "text/plain": [
       "Training head_diagonal_softmax_loss-model:   0%|          | 0/501 [00:00<?, ?it/s]"
      ]
     },
     "metadata": {},
     "output_type": "display_data"
    },
    {
     "name": "stdout",
     "output_type": "stream",
     "text": [
      "Training video for head_diagonal_softmax_loss, saved at .\\results\\head_diagonal_softmax_loss\\movies\\20241128T111907_training_head_diagonal_softmax_loss.mp4\n",
      "cross_entropy_matching_loss\n"
     ]
    },
    {
     "data": {
      "application/vnd.jupyter.widget-view+json": {
       "model_id": "5bd5d4e4c4c5435594c06ca735438c30",
       "version_major": 2,
       "version_minor": 0
      },
      "text/plain": [
       "Training head_cross_entropy_matching_loss-model:   0%|          | 0/501 [00:00<?, ?it/s]"
      ]
     },
     "metadata": {},
     "output_type": "display_data"
    },
    {
     "name": "stdout",
     "output_type": "stream",
     "text": [
      "Training video for head_cross_entropy_matching_loss, saved at .\\results\\head_cross_entropy_matching_loss\\movies\\20241128T112004_training_head_cross_entropy_matching_loss.mp4\n",
      "softmax_diagonal_loss\n"
     ]
    },
    {
     "data": {
      "application/vnd.jupyter.widget-view+json": {
       "model_id": "3b8b8fa770b9437ca3fe21f09a179870",
       "version_major": 2,
       "version_minor": 0
      },
      "text/plain": [
       "Training head_softmax_diagonal_loss-model:   0%|          | 0/501 [00:00<?, ?it/s]"
      ]
     },
     "metadata": {},
     "output_type": "display_data"
    },
    {
     "name": "stdout",
     "output_type": "stream",
     "text": [
      "Training video for head_softmax_diagonal_loss, saved at .\\results\\head_softmax_diagonal_loss\\movies\\20241128T112100_training_head_softmax_diagonal_loss.mp4\n",
      "softmax_matching_loss\n"
     ]
    },
    {
     "data": {
      "application/vnd.jupyter.widget-view+json": {
       "model_id": "4409d42bf6d44e149db85beab099347c",
       "version_major": 2,
       "version_minor": 0
      },
      "text/plain": [
       "Training head_softmax_matching_loss-model:   0%|          | 0/501 [00:00<?, ?it/s]"
      ]
     },
     "metadata": {},
     "output_type": "display_data"
    },
    {
     "name": "stdout",
     "output_type": "stream",
     "text": [
      "Training video for head_softmax_matching_loss, saved at .\\results\\head_softmax_matching_loss\\movies\\20241128T112159_training_head_softmax_matching_loss.mp4\n",
      "contrastive_distance_loss\n"
     ]
    },
    {
     "data": {
      "application/vnd.jupyter.widget-view+json": {
       "model_id": "e2e68e4c21ea4f22b61342ccfbef6171",
       "version_major": 2,
       "version_minor": 0
      },
      "text/plain": [
       "Training head_contrastive_distance_loss-model:   0%|          | 0/501 [00:00<?, ?it/s]"
      ]
     },
     "metadata": {},
     "output_type": "display_data"
    },
    {
     "name": "stdout",
     "output_type": "stream",
     "text": [
      "Training video for head_contrastive_distance_loss, saved at .\\results\\head_contrastive_distance_loss\\movies\\20241128T112302_training_head_contrastive_distance_loss.mp4\n",
      "triplet_margin_loss\n"
     ]
    },
    {
     "data": {
      "application/vnd.jupyter.widget-view+json": {
       "model_id": "afc949b4815e4c08ad7967f5d776c299",
       "version_major": 2,
       "version_minor": 0
      },
      "text/plain": [
       "Training head_triplet_margin_loss-model:   0%|          | 0/501 [00:00<?, ?it/s]"
      ]
     },
     "metadata": {},
     "output_type": "display_data"
    },
    {
     "name": "stdout",
     "output_type": "stream",
     "text": [
      "Training video for head_triplet_margin_loss, saved at .\\results\\head_triplet_margin_loss\\movies\\20241128T112359_training_head_triplet_margin_loss.mp4\n"
     ]
    }
   ],
   "source": [
    "# Train a model with heading data\n",
    "\n",
    "## diagonal_sum_loss\n",
    "model_head, manager_head = train_model_loss_static_val(\n",
    "    model_type='head_diagonal_sum_loss',\n",
    "    input_dim=3,\n",
    "    p1 = t1, p2 = t2,\n",
    "    max_iter=maxiter,\n",
    "    N = N,\n",
    "    sigma_distance=sigma_distance,\n",
    "    sigma_heading = sigma_heading,\n",
    "    loss_function=LossFunctions.diagonal_sum_loss,\n",
    ")\n",
    "\n",
    "## diagonal_softmax_loss\n",
    "model_head, manager_head = train_model_loss_static_val(\n",
    "    model_type='head_diagonal_softmax_loss',\n",
    "    input_dim=3,\n",
    "    p1 = t1, p2 = t2,\n",
    "    max_iter=maxiter,\n",
    "    N = N,\n",
    "    sigma_distance=sigma_distance,\n",
    "    sigma_heading = sigma_heading,\n",
    "    loss_function=LossFunctions.diagonal_softmax_loss,\n",
    ")\n",
    "\n",
    "## cross_entropy_matching_loss\n",
    "model_head, manager_head = train_model_loss_static_val(\n",
    "    model_type='head_cross_entropy_matching_loss',\n",
    "    input_dim=3,\n",
    "    p1 = t1, p2 = t2,\n",
    "    max_iter=maxiter,\n",
    "    N = N,\n",
    "    sigma_distance=sigma_distance,\n",
    "    sigma_heading = sigma_heading,\n",
    "    loss_function=LossFunctions.cross_entropy_matching_loss,\n",
    ")\n",
    "\n",
    "## softmax_diagonal_loss\n",
    "model_head, manager_head = train_model_loss_static_val(\n",
    "    model_type='head_softmax_diagonal_loss',\n",
    "    input_dim=3,\n",
    "    p1 = t1, p2 = t2,\n",
    "    max_iter=maxiter,\n",
    "    N = N,\n",
    "    sigma_distance=sigma_distance,\n",
    "    sigma_heading = sigma_heading,\n",
    "    loss_function=LossFunctions.softmax_diagonal_loss,\n",
    ")\n",
    "\n",
    "## softmax_matching_loss\n",
    "model_head, manager_head = train_model_loss_static_val(\n",
    "    model_type='head_softmax_matching_loss',\n",
    "    input_dim=3,\n",
    "    p1 = t1, p2 = t2,\n",
    "    max_iter=maxiter,\n",
    "    N = N,\n",
    "    sigma_distance=sigma_distance,\n",
    "    sigma_heading = sigma_heading,\n",
    "    loss_function=LossFunctions.softmax_matching_loss,\n",
    ")\n",
    "\n",
    "## contrastive_loss\n",
    "model_head, manager_head = train_model_loss_static_val(\n",
    "    model_type='head_contrastive_distance_loss',\n",
    "    input_dim=3,\n",
    "    p1 = t1, p2 = t2,\n",
    "    max_iter=maxiter,\n",
    "    N = N,\n",
    "    sigma_distance=sigma_distance,\n",
    "    sigma_heading = sigma_heading,\n",
    "    loss_function=LossFunctions.contrastive_distance_loss,\n",
    ")\n",
    "\n",
    "## triplet_margin_loss\n",
    "model_head, manager_head = train_model_loss_static_val(\n",
    "    model_type='head_triplet_margin_loss',\n",
    "    input_dim=3,\n",
    "    p1 = t1, p2 = t2,\n",
    "    max_iter=maxiter,\n",
    "    N = N,\n",
    "    sigma_distance=sigma_distance,\n",
    "    sigma_heading = sigma_heading,\n",
    "    loss_function=LossFunctions.triplet_margin_loss,\n",
    ")"
   ]
  },
  {
   "cell_type": "markdown",
   "metadata": {},
   "source": [
    "## Speed over ground:"
   ]
  },
  {
   "cell_type": "code",
   "execution_count": null,
   "metadata": {},
   "outputs": [],
   "source": [
    "# Train a model with sog and heading data\n",
    "t1.shape"
   ]
  },
  {
   "cell_type": "markdown",
   "metadata": {},
   "source": [
    "# Masking"
   ]
  },
  {
   "cell_type": "code",
   "execution_count": null,
   "metadata": {},
   "outputs": [],
   "source": []
  },
  {
   "cell_type": "markdown",
   "metadata": {},
   "source": [
    "### ToDo\n",
    "Create individual python classes for:\n",
    "1. KNN algorithm that matches the data only using position (lat, lon) with haversine and euclidean. DONE\n",
    "<br> 1.2. Hungarian algorithm.\n",
    "\n",
    "2. MLP with only position (lat, lon). It should show that it tends to the same solution as the KNN. DONE\n",
    "\n",
    "3. MLP with\n",
    "<br> 3.1 Headin. DONE\n",
    "<br> 3.2 COG\n",
    "\n",
    "4. MLP with SOG\n",
    "    - Siden at det er instantanious så ville værdien ikke beskrive noget nyt om skibets position for matching.\n",
    "\n",
    "5. Missing data masking of data to simulate real time data. Where AIS is not always existing\n",
    "    - Try to input AIS (with all information) and SAR with only position (lat, lon). See how the model performs.\n",
    "\n",
    "How:\n",
    "1) Make model not generate plots during testing but only after.\n",
    "    - Or make it a boolean statement. True = plot during, False = Plot after.\n",
    "2) Set up this .ipynb with a cell for each model. The MLP's should have same parameters such that comparisons can be made.\n",
    "3) Create a cell, that generates the same test set for all models.\n",
    "\n",
    "1) Masks for:\n",
    "AIS to SAR data ratio e.g. Only X% of True matches: $M_{p2} = N_{p1} \\cdot X_{\\%} $\n",
    "        - \n",
    "    - Missing parameters, e.g. heading, speed, cog are NaN and sar simply not contanining them.\n",
    "\n",
    "# MORE METICS\n",
    "- Confuion matrix\n",
    "- Accuracy\n",
    "- Recall\n",
    "- Precision\n",
    "- mAP"
   ]
  }
 ],
 "metadata": {
  "kernelspec": {
   "display_name": "datafusion_venv",
   "language": "python",
   "name": "python3"
  },
  "language_info": {
   "codemirror_mode": {
    "name": "ipython",
    "version": 3
   },
   "file_extension": ".py",
   "mimetype": "text/x-python",
   "name": "python",
   "nbconvert_exporter": "python",
   "pygments_lexer": "ipython3",
   "version": "3.12.6"
  }
 },
 "nbformat": 4,
 "nbformat_minor": 2
}
