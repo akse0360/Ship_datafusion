{
 "cells": [
  {
   "cell_type": "code",
   "execution_count": 1,
   "metadata": {},
   "outputs": [],
   "source": [
    "# -*- coding: utf-8 -*-\n",
    "# Python 3.12.6\n",
    "\n",
    "# Internal Libs\n",
    "import random\n",
    "import os\n",
    "from datetime import datetime\n",
    "now = datetime.now()\n",
    "\n",
    "# External Libs\n",
    "import numpy as np\n",
    "import pandas as pd\n",
    "\n",
    "# Produced Libs:\n",
    "## Data loader\n",
    "from scripts.data_loader import DataLoader\n",
    "\n",
    "## Filters\n",
    "### Filters for AIS data\n",
    "from scripts.filters.ais_filters import AISFilters as af, AISInterpolation as ai\n",
    "### Filters for Norsat data\n",
    "from scripts.filters.norsat_filters import NorsatFilters as nf\n",
    "### Filters for SAR data\n",
    "from scripts.filters.sar_filters import SARFilters as sf\n",
    "\n",
    "## Matching algorithms\n",
    "### Nearest neighbour\n",
    "from scripts.matchers.nearest_neighbour_matching import *\n",
    "\n",
    "#\n",
    "#from scripts.data_formatter import DataProcessor as dp\n",
    "#from scripts.matching import hungarian_method\n",
    "#from scripts.plotter import Plotter as pl"
   ]
  },
  {
   "cell_type": "code",
   "execution_count": 2,
   "metadata": {},
   "outputs": [],
   "source": [
    "# Define date and time filter\n",
    "date_key = '03-11-2022'\n",
    "\n",
    "# PATHS, dataframe and shpfile #\n",
    "# Define paths\n",
    "base_path = \"C:\\\\Users\\\\abelt\\\\OneDrive\\\\Desktop\\\\Kandidat\\\\\"\n",
    "## File names ##\n",
    "# AIS\n",
    "ais_files = {\n",
    "    '02-11-2022': 'ais\\\\ais_110215.csv',\n",
    "    '03-11-2022': 'ais\\\\ais_110315.csv',\n",
    "    '05-11-2022': 'ais\\\\ais_1105.csv'\n",
    "}\n",
    "# SAR\n",
    "sar_files = {\n",
    "    '02-11-2022': 'sar\\\\Sentinel_1_detection_20221102T1519.json',\n",
    "    '03-11-2022': 'sar\\\\Sentinel_1_detection_20221103T154515.json',\n",
    "    '05-11-2022': 'sar\\\\Sentinel_1_detection_20221105T162459.json'\n",
    "}\n",
    "# Norsat\n",
    "norsat_files = {\n",
    "    '02-11-2022': 'norsat\\\\Norsat3-N1-JSON-Message-DK-2022-11-02T151459Z.json',\n",
    "    '03-11-2022': 'norsat\\\\Norsat3-N1-JSON-Message-DK-2022-11-03T152759Z.json',\n",
    "    '05-11-2022': 'norsat\\\\Norsat3-N1-JSON-Message-DK-2022-11-05T155259Z.json'\n",
    "}"
   ]
  },
  {
   "cell_type": "code",
   "execution_count": 3,
   "metadata": {},
   "outputs": [
    {
     "name": "stdout",
     "output_type": "stream",
     "text": [
      "AIS Data Loaded:\n",
      "dict_keys(['02-11-2022', '03-11-2022', '05-11-2022'])\n",
      "Columns for the first DataFrame: Index(['ais_id', 'mmsi', 'TimeStamp', 'latitude', 'longitude', 'length',\n",
      "       'width', 'sog', 'cog', 'source'],\n",
      "      dtype='object')\n",
      "Norsat Data Loaded:\n",
      "dict_keys(['02-11-2022', '03-11-2022', '05-11-2022'])\n",
      "Columns for the first DataFrame: Index(['norsat_id', 'TimeStamp', 'latitude', 'longitude',\n",
      "       'CollectionInformation', 'NRDEmitterPosition', 'CandidateList',\n",
      "       'source', 'UncertaintyEllipsePoints'],\n",
      "      dtype='object')\n",
      "SAR Data Loaded:\n",
      "dict_keys(['02-11-2022', '03-11-2022', '05-11-2022'])\n",
      "Columns for the first DataFrame: Index(['ProductType', 'Polarization', 'Swath', 'TimeStamp', 'TimeStamp_end',\n",
      "       'Name', 'Satellite', 'Shape', 'Objects', 'source'],\n",
      "      dtype='object')\n",
      "SAR object Loaded:\n",
      "dict_keys(['02-11-2022', '03-11-2022', '05-11-2022'])\n",
      "Columns for the first DataFrame: Index(['sar_id', 'sar_image_id', 'TimeStamp', 'latitude', 'longitude', 'width',\n",
      "       'height', 'probabilities', 'source', 'encoded_image', 'on_sea',\n",
      "       'distance_to_shoreline'],\n",
      "      dtype='object')\n"
     ]
    }
   ],
   "source": [
    "# LOADING #\n",
    "data_loader = DataLoader(base_path = base_path, ais_files = ais_files, sar_files = sar_files, norsat_files = norsat_files, date_key = date_key)\n",
    "ais_loader, sar_loader, norsat_loader = data_loader.load_data()\n",
    "\n",
    "######### SAR #########\n",
    "# images by date_key: sar_loader.dfs_sar\n",
    "# objects by date_key: sar_loader.sar_object_dfs\n",
    "######### AIS #########\n",
    "#ais_loader.dfs_ais\n",
    "######### Norsat #########\n",
    "#norsat_loader.dfs_norsat\n",
    "\n",
    "sar_data = sar_loader.sar_object_dfs[date_key].copy()\n",
    "ais_data = ais_loader.dfs_ais[date_key].copy()\n",
    "norsat_data = norsat_loader.dfs_norsat[date_key].copy()"
   ]
  },
  {
   "cell_type": "code",
   "execution_count": 4,
   "metadata": {},
   "outputs": [
    {
     "data": {
      "text/plain": [
       "(2515, 2520)"
      ]
     },
     "execution_count": 4,
     "metadata": {},
     "output_type": "execute_result"
    }
   ],
   "source": [
    "# Filter SAR data\n",
    "## Filter out SAR data based on on_sea\n",
    "sar_data = sar_data[sar_data['on_sea'] == True] # This is the SAR data that is on sea\n",
    "## Filter out SAR data based on class 0\n",
    "filtered_sar_data = sf.filter_sar_probabilities(sar_data) # This is the SAR data that is class 0\n",
    "\n",
    "# Filter AIS data\n",
    "## Define the time threshold for comparison\n",
    "delta_time = pd.Timedelta(hours=1)\n",
    "## Finding vessels in AIS data that are close to objects in SAR and Norsat\n",
    "mmsi_ais_sar = af.ais_find_matching_vessels(AIS_data=ais_data, comparison_data=sar_data, delta_time=delta_time) # This is the AIS data that is close to SAR data time\n",
    "mmsi_ais_norsat = af.ais_find_matching_vessels(AIS_data=ais_data, comparison_data=norsat_data, delta_time=delta_time) # This is the AIS data that is close to Norsat data time\n",
    "## Filter AIS data by MMSI\n",
    "filtered_ais_to_sar = af.filter_by_mmsi(mmsi_ais_sar, ais_data) # This is the AIS data by MMSI numbers that are close to SAR data\n",
    "filtered_ais_to_norsat = af.filter_by_mmsi(mmsi_ais_norsat, ais_data) # This is the AIS data by MMSI numbers that are close to Norsat data\n",
    "len(filtered_ais_to_sar.groupby('mmsi')), len(filtered_ais_to_norsat.groupby('mmsi'))"
   ]
  },
  {
   "cell_type": "code",
   "execution_count": 5,
   "metadata": {},
   "outputs": [
    {
     "data": {
      "text/html": [
       "<div>\n",
       "<style scoped>\n",
       "    .dataframe tbody tr th:only-of-type {\n",
       "        vertical-align: middle;\n",
       "    }\n",
       "\n",
       "    .dataframe tbody tr th {\n",
       "        vertical-align: top;\n",
       "    }\n",
       "\n",
       "    .dataframe thead th {\n",
       "        text-align: right;\n",
       "    }\n",
       "</style>\n",
       "<table border=\"1\" class=\"dataframe\">\n",
       "  <thead>\n",
       "    <tr style=\"text-align: right;\">\n",
       "      <th></th>\n",
       "      <th>ais_id</th>\n",
       "      <th>mmsi</th>\n",
       "      <th>TimeStamp</th>\n",
       "      <th>latitude</th>\n",
       "      <th>longitude</th>\n",
       "      <th>length</th>\n",
       "      <th>width</th>\n",
       "      <th>sog</th>\n",
       "      <th>cog</th>\n",
       "      <th>source</th>\n",
       "    </tr>\n",
       "  </thead>\n",
       "  <tbody>\n",
       "    <tr>\n",
       "      <th>3</th>\n",
       "      <td>3</td>\n",
       "      <td>992576146</td>\n",
       "      <td>2022-11-03 14:02:28+00:00</td>\n",
       "      <td>68.601290</td>\n",
       "      <td>15.349760</td>\n",
       "      <td>2.0</td>\n",
       "      <td>2.0</td>\n",
       "      <td>NaN</td>\n",
       "      <td>NaN</td>\n",
       "      <td>ais</td>\n",
       "    </tr>\n",
       "    <tr>\n",
       "      <th>4</th>\n",
       "      <td>4</td>\n",
       "      <td>992576146</td>\n",
       "      <td>2022-11-03 14:08:56+00:00</td>\n",
       "      <td>68.601290</td>\n",
       "      <td>15.349760</td>\n",
       "      <td>2.0</td>\n",
       "      <td>2.0</td>\n",
       "      <td>NaN</td>\n",
       "      <td>NaN</td>\n",
       "      <td>ais</td>\n",
       "    </tr>\n",
       "    <tr>\n",
       "      <th>5</th>\n",
       "      <td>5</td>\n",
       "      <td>992576146</td>\n",
       "      <td>2022-11-03 14:15:25+00:00</td>\n",
       "      <td>68.601290</td>\n",
       "      <td>15.349760</td>\n",
       "      <td>2.0</td>\n",
       "      <td>2.0</td>\n",
       "      <td>NaN</td>\n",
       "      <td>NaN</td>\n",
       "      <td>ais</td>\n",
       "    </tr>\n",
       "    <tr>\n",
       "      <th>6</th>\n",
       "      <td>6</td>\n",
       "      <td>992576146</td>\n",
       "      <td>2022-11-03 14:21:53+00:00</td>\n",
       "      <td>68.601290</td>\n",
       "      <td>15.349760</td>\n",
       "      <td>2.0</td>\n",
       "      <td>2.0</td>\n",
       "      <td>NaN</td>\n",
       "      <td>NaN</td>\n",
       "      <td>ais</td>\n",
       "    </tr>\n",
       "    <tr>\n",
       "      <th>7</th>\n",
       "      <td>7</td>\n",
       "      <td>992576146</td>\n",
       "      <td>2022-11-03 14:28:21+00:00</td>\n",
       "      <td>68.601290</td>\n",
       "      <td>15.349760</td>\n",
       "      <td>2.0</td>\n",
       "      <td>2.0</td>\n",
       "      <td>NaN</td>\n",
       "      <td>NaN</td>\n",
       "      <td>ais</td>\n",
       "    </tr>\n",
       "    <tr>\n",
       "      <th>...</th>\n",
       "      <td>...</td>\n",
       "      <td>...</td>\n",
       "      <td>...</td>\n",
       "      <td>...</td>\n",
       "      <td>...</td>\n",
       "      <td>...</td>\n",
       "      <td>...</td>\n",
       "      <td>...</td>\n",
       "      <td>...</td>\n",
       "      <td>...</td>\n",
       "    </tr>\n",
       "    <tr>\n",
       "      <th>75869</th>\n",
       "      <td>75869</td>\n",
       "      <td>538009667</td>\n",
       "      <td>2022-11-03 16:18:57+00:00</td>\n",
       "      <td>69.595167</td>\n",
       "      <td>33.544667</td>\n",
       "      <td>180.0</td>\n",
       "      <td>30.0</td>\n",
       "      <td>10.7</td>\n",
       "      <td>181.0</td>\n",
       "      <td>ais</td>\n",
       "    </tr>\n",
       "    <tr>\n",
       "      <th>75870</th>\n",
       "      <td>75870</td>\n",
       "      <td>538009667</td>\n",
       "      <td>2022-11-03 17:04:28+00:00</td>\n",
       "      <td>69.457000</td>\n",
       "      <td>33.553333</td>\n",
       "      <td>180.0</td>\n",
       "      <td>30.0</td>\n",
       "      <td>11.6</td>\n",
       "      <td>180.0</td>\n",
       "      <td>ais</td>\n",
       "    </tr>\n",
       "    <tr>\n",
       "      <th>75871</th>\n",
       "      <td>75871</td>\n",
       "      <td>538009667</td>\n",
       "      <td>2022-11-03 17:10:24+00:00</td>\n",
       "      <td>69.437833</td>\n",
       "      <td>33.552333</td>\n",
       "      <td>180.0</td>\n",
       "      <td>30.0</td>\n",
       "      <td>11.3</td>\n",
       "      <td>181.0</td>\n",
       "      <td>ais</td>\n",
       "    </tr>\n",
       "    <tr>\n",
       "      <th>75872</th>\n",
       "      <td>75872</td>\n",
       "      <td>538009667</td>\n",
       "      <td>2022-11-03 17:20:56+00:00</td>\n",
       "      <td>69.404667</td>\n",
       "      <td>33.551667</td>\n",
       "      <td>180.0</td>\n",
       "      <td>30.0</td>\n",
       "      <td>11.4</td>\n",
       "      <td>181.0</td>\n",
       "      <td>ais</td>\n",
       "    </tr>\n",
       "    <tr>\n",
       "      <th>75873</th>\n",
       "      <td>75873</td>\n",
       "      <td>538009667</td>\n",
       "      <td>2022-11-03 17:59:25+00:00</td>\n",
       "      <td>69.290333</td>\n",
       "      <td>33.515167</td>\n",
       "      <td>180.0</td>\n",
       "      <td>30.0</td>\n",
       "      <td>9.8</td>\n",
       "      <td>177.0</td>\n",
       "      <td>ais</td>\n",
       "    </tr>\n",
       "  </tbody>\n",
       "</table>\n",
       "<p>75492 rows × 10 columns</p>\n",
       "</div>"
      ],
      "text/plain": [
       "       ais_id       mmsi                 TimeStamp   latitude  longitude  \\\n",
       "3           3  992576146 2022-11-03 14:02:28+00:00  68.601290  15.349760   \n",
       "4           4  992576146 2022-11-03 14:08:56+00:00  68.601290  15.349760   \n",
       "5           5  992576146 2022-11-03 14:15:25+00:00  68.601290  15.349760   \n",
       "6           6  992576146 2022-11-03 14:21:53+00:00  68.601290  15.349760   \n",
       "7           7  992576146 2022-11-03 14:28:21+00:00  68.601290  15.349760   \n",
       "...       ...        ...                       ...        ...        ...   \n",
       "75869   75869  538009667 2022-11-03 16:18:57+00:00  69.595167  33.544667   \n",
       "75870   75870  538009667 2022-11-03 17:04:28+00:00  69.457000  33.553333   \n",
       "75871   75871  538009667 2022-11-03 17:10:24+00:00  69.437833  33.552333   \n",
       "75872   75872  538009667 2022-11-03 17:20:56+00:00  69.404667  33.551667   \n",
       "75873   75873  538009667 2022-11-03 17:59:25+00:00  69.290333  33.515167   \n",
       "\n",
       "       length  width   sog    cog source  \n",
       "3         2.0    2.0   NaN    NaN    ais  \n",
       "4         2.0    2.0   NaN    NaN    ais  \n",
       "5         2.0    2.0   NaN    NaN    ais  \n",
       "6         2.0    2.0   NaN    NaN    ais  \n",
       "7         2.0    2.0   NaN    NaN    ais  \n",
       "...       ...    ...   ...    ...    ...  \n",
       "75869   180.0   30.0  10.7  181.0    ais  \n",
       "75870   180.0   30.0  11.6  180.0    ais  \n",
       "75871   180.0   30.0  11.3  181.0    ais  \n",
       "75872   180.0   30.0  11.4  181.0    ais  \n",
       "75873   180.0   30.0   9.8  177.0    ais  \n",
       "\n",
       "[75492 rows x 10 columns]"
      ]
     },
     "execution_count": 5,
     "metadata": {},
     "output_type": "execute_result"
    }
   ],
   "source": [
    "filtered_ais_to_norsat"
   ]
  },
  {
   "cell_type": "code",
   "execution_count": 6,
   "metadata": {},
   "outputs": [
    {
     "name": "stdout",
     "output_type": "stream",
     "text": [
      "MMSI numbers with insufficient data points: 99 out of 2515\n",
      "MMSI numbers with insufficient data points: 98 out of 2520\n"
     ]
    }
   ],
   "source": [
    "# Interpolate MMSI points for filtered AIS data to SAR and Norsat\n",
    "## Interpolate MMSI points for filtered AIS data to SAR\n",
    "interpolated_ais_sar, not_enough_sar = ai.ais_interpolate_mmsi_points(filtered_ais_to_sar, sar_data['TimeStamp'])\n",
    "## Interpolate MMSI points for filtered AIS data to Norsat\n",
    "interpolated_ais_norsat, not_enough_norsat = ai.ais_interpolate_mmsi_points(filtered_ais_to_norsat, norsat_data['TimeStamp'])"
   ]
  },
  {
   "cell_type": "code",
   "execution_count": 13,
   "metadata": {},
   "outputs": [
    {
     "data": {
      "text/plain": [
       "sog_after\n",
       "False    2340\n",
       "True       76\n",
       "Name: count, dtype: int64"
      ]
     },
     "execution_count": 13,
     "metadata": {},
     "output_type": "execute_result"
    }
   ],
   "source": [
    "interpolated_ais_sar['sog_after'].isna().value_counts()#.sum(), interpolated_ais_norsat['sog_after'].isna().sum()"
   ]
  },
  {
   "cell_type": "code",
   "execution_count": 10,
   "metadata": {},
   "outputs": [
    {
     "data": {
      "text/plain": [
       "0       0.0\n",
       "1       0.5\n",
       "2       0.1\n",
       "3       0.0\n",
       "4      -0.1\n",
       "       ... \n",
       "2411    NaN\n",
       "2412    NaN\n",
       "2413    NaN\n",
       "2414    NaN\n",
       "2415    NaN\n",
       "Length: 2416, dtype: float64"
      ]
     },
     "execution_count": 10,
     "metadata": {},
     "output_type": "execute_result"
    }
   ],
   "source": []
  },
  {
   "cell_type": "code",
   "execution_count": null,
   "metadata": {},
   "outputs": [],
   "source": [
    "d = mmsi_ais_sar.get_group(209610000)\n",
    "d"
   ]
  },
  {
   "cell_type": "code",
   "execution_count": null,
   "metadata": {},
   "outputs": [],
   "source": [
    "filtered_ais_to_sar"
   ]
  },
  {
   "cell_type": "code",
   "execution_count": null,
   "metadata": {},
   "outputs": [],
   "source": [
    "interpolated_ais_norsat"
   ]
  },
  {
   "cell_type": "markdown",
   "metadata": {},
   "source": [
    "```markdown\n",
    "### List of MMSI Numbers within Delta Time in `matching_vessels_ais_sar`\n",
    "\n",
    "To get a list of all MMSI numbers that are within the `delta_time` in `matching_vessels_ais_sar`, we can extract the keys from the grouped DataFrame. Here's the code to achieve this:\n",
    "\n",
    "```python\n",
    "mmsi_list = list(matching_vessels_ais_sar.groups.keys())\n",
    "print(mmsi_list)\n",
    "```\n",
    "\n",
    "This will provide a list of all MMSI numbers that have matching timestamps within the specified `delta_time`.\n",
    "```"
   ]
  },
  {
   "cell_type": "code",
   "execution_count": 19,
   "metadata": {},
   "outputs": [],
   "source": [
    "#print('Interpolation for ais')\n",
    "#print('SAR')\n",
    "#ais_sar_interpol, sar_missing = dp.ais_interpolate_mmsi_points(ais_data = ais_data['tm_ais_sar'], date_key = date_key, interpolation_time_col = sar_data['sar_landmasked']['TimeStamp'])\n",
    "#print('Norsat-3')\n",
    "#ais_norsat_interpol, norsat_missing = dp.ais_interpolate_mmsi_points(ais_data = ais_data['tm_ais_norsat'], date_key = date_key, interpolation_time_col = norsat_data[date_key]['TimeStamp'])"
   ]
  },
  {
   "cell_type": "code",
   "execution_count": 20,
   "metadata": {},
   "outputs": [],
   "source": [
    "#time_matching_ais_sar = ma.ais_find_matching_vessels(AIS_data., SAR_data, self.date_key, time_diff)\n",
    "\n",
    "# Perform time matching between AIS and Norsat if both are available\n",
    "#time_matching_ais_norsat = ma.ais_find_matching_vessels(AIS_data, norsat_data, self.date_key, time_diff)\n",
    "\n",
    "# Prepare the data dictionaries for output\n",
    "#ais_data = {'ais': AIS_data, 'tm_ais_sar': time_matching_ais_sar, 'tm_ais_norsat': time_matching_ais_norsat}\n",
    "#sar_data = {'sar': SAR_data, 'sar_objects': SAR_expanded, 'sar_landmasked': SAR_on_sea}\n"
   ]
  },
  {
   "cell_type": "code",
   "execution_count": null,
   "metadata": {},
   "outputs": [],
   "source": [
    "\n",
    "matched_data3 = match_nearest_unique(norsat_data, sar_data, 'norsat_id', 'sar_id')\n",
    "#matched_data3"
   ]
  }
 ],
 "metadata": {
  "kernelspec": {
   "display_name": "datafusion_venv",
   "language": "python",
   "name": "python3"
  },
  "language_info": {
   "codemirror_mode": {
    "name": "ipython",
    "version": 3
   },
   "file_extension": ".py",
   "mimetype": "text/x-python",
   "name": "python",
   "nbconvert_exporter": "python",
   "pygments_lexer": "ipython3",
   "version": "3.12.6"
  }
 },
 "nbformat": 4,
 "nbformat_minor": 2
}
