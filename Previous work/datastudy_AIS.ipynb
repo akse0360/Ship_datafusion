{
 "cells": [
  {
   "cell_type": "code",
   "execution_count": 1,
   "metadata": {},
   "outputs": [
    {
     "name": "stdout",
     "output_type": "stream",
     "text": [
      "           # Timestamp Type of mobile       MMSI   Latitude  Longitude  \\\n",
      "0  09/03/2024 00:00:00        Class A  219000873  56.990890  10.304560   \n",
      "1  09/03/2024 00:00:00   Base Station    2190065  55.656815   8.671400   \n",
      "2  09/03/2024 00:00:00        Class A  636023604  57.616102   8.839450   \n",
      "3  09/03/2024 00:00:00        Class A  219007404  57.122868   8.600052   \n",
      "4  09/03/2024 00:00:00   Base Station    2190071  57.110043   8.648282   \n",
      "\n",
      "                   Navigational status  ROT   SOG    COG  Heading  ... Length  \\\n",
      "0               Under way using engine  NaN   0.0   38.4      NaN  ...    NaN   \n",
      "1                        Unknown value  NaN   NaN    NaN      NaN  ...    NaN   \n",
      "2               Under way using engine  NaN  12.1  244.8      NaN  ...    NaN   \n",
      "3  Reserved for future amendment [HSC]  0.0   0.0  325.7    150.0  ...    NaN   \n",
      "4                        Unknown value  NaN   NaN    NaN      NaN  ...    NaN   \n",
      "\n",
      "  Type of position fixing device Draught Destination  ETA  Data source type  \\\n",
      "0                      Undefined     NaN     Unknown  NaN               AIS   \n",
      "1                       Surveyed     NaN     Unknown  NaN               AIS   \n",
      "2                      Undefined     NaN     Unknown  NaN               AIS   \n",
      "3                      Undefined     NaN     Unknown  NaN               AIS   \n",
      "4                            GPS     NaN     Unknown  NaN               AIS   \n",
      "\n",
      "    A   B   C   D  \n",
      "0 NaN NaN NaN NaN  \n",
      "1 NaN NaN NaN NaN  \n",
      "2 NaN NaN NaN NaN  \n",
      "3 NaN NaN NaN NaN  \n",
      "4 NaN NaN NaN NaN  \n",
      "\n",
      "[5 rows x 26 columns]\n"
     ]
    }
   ],
   "source": [
    "# Libs\n",
    "import pandas as pd\n",
    "\n",
    "## Loading data ##\n",
    "# Specify the path to CSV file\n",
    "file_path = r'C:\\Users\\abelt\\Downloads\\aisdk-2024-03-09.csv'\n",
    "\n",
    "# Read the CSV file into a DataFrame\n",
    "df = pd.read_csv(file_path)\n",
    "\n",
    "# Display the first few rows of the DataFrame to verify\n",
    "print(df.head())"
   ]
  },
  {
   "cell_type": "code",
   "execution_count": 2,
   "metadata": {},
   "outputs": [],
   "source": [
    "types = ['Class A', 'Class B']# ['Base Station','AtoN', 'SAR Airborne', 'Search and Rescue Transponder']\n",
    "df_ships = df[df['Type of mobile'].isin(types)]"
   ]
  },
  {
   "cell_type": "code",
   "execution_count": 3,
   "metadata": {},
   "outputs": [
    {
     "name": "stdout",
     "output_type": "stream",
     "text": [
      "Type of mobile\n",
      "False    14912567\n",
      "Name: count, dtype: int64\n",
      "MMSI\n",
      "False    14912567\n",
      "Name: count, dtype: int64\n",
      "Longitude\n",
      "False    14912567\n",
      "Name: count, dtype: int64\n",
      "Latitude\n",
      "False    14912567\n",
      "Name: count, dtype: int64\n"
     ]
    }
   ],
   "source": [
    "# Type of mobile\n",
    "print(pd.value_counts(df_ships['Type of mobile'].isnull()))\n",
    "# MMSI\n",
    "print(pd.value_counts(df_ships['MMSI'].isnull()))\n",
    "# Longtitude\n",
    "print(pd.value_counts(df_ships['Longitude'].isnull()))\n",
    "# Latitude\n",
    "print(pd.value_counts(df_ships['Latitude'].isnull()))"
   ]
  },
  {
   "cell_type": "code",
   "execution_count": 4,
   "metadata": {},
   "outputs": [
    {
     "data": {
      "text/plain": [
       "A\n",
       "False    14443695\n",
       "True       468872\n",
       "Name: count, dtype: int64"
      ]
     },
     "execution_count": 4,
     "metadata": {},
     "output_type": "execute_result"
    }
   ],
   "source": [
    "pd.value_counts(df_ships['A'].isnull())"
   ]
  }
 ],
 "metadata": {
  "kernelspec": {
   "display_name": "base",
   "language": "python",
   "name": "python3"
  },
  "language_info": {
   "codemirror_mode": {
    "name": "ipython",
    "version": 3
   },
   "file_extension": ".py",
   "mimetype": "text/x-python",
   "name": "python",
   "nbconvert_exporter": "python",
   "pygments_lexer": "ipython3",
   "version": "3.11.6"
  }
 },
 "nbformat": 4,
 "nbformat_minor": 2
}
